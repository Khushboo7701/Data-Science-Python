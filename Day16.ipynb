{
 "cells": [
  {
   "cell_type": "markdown",
   "id": "4db51063",
   "metadata": {},
   "source": [
    "# Descriptive Statistics:\n",
    "Descriptive Statistics means summarizing the data at hand through certain numbers like mean, median etc. so as to make the understanding of the data easier. It does not involve any generalization or inference beyond what is available. This means that the descriptive statistics are just the representation of the data available and not based on any theory of probability.\n",
    "Commonly used measures include-\n",
    "1. Measures of central tendency\n",
    "2. Measures of Dispersion (or variability)"
   ]
  },
  {
   "cell_type": "code",
   "execution_count": 4,
   "id": "f3c2a357",
   "metadata": {
    "scrolled": true
   },
   "outputs": [
    {
     "data": {
      "text/html": [
       "<div>\n",
       "<style scoped>\n",
       "    .dataframe tbody tr th:only-of-type {\n",
       "        vertical-align: middle;\n",
       "    }\n",
       "\n",
       "    .dataframe tbody tr th {\n",
       "        vertical-align: top;\n",
       "    }\n",
       "\n",
       "    .dataframe thead th {\n",
       "        text-align: right;\n",
       "    }\n",
       "</style>\n",
       "<table border=\"1\" class=\"dataframe\">\n",
       "  <thead>\n",
       "    <tr style=\"text-align: right;\">\n",
       "      <th></th>\n",
       "      <th>Game</th>\n",
       "      <th>Year</th>\n",
       "      <th>Genre</th>\n",
       "      <th>Publisher</th>\n",
       "      <th>North America</th>\n",
       "      <th>Europe</th>\n",
       "      <th>Japan</th>\n",
       "      <th>Rest of World</th>\n",
       "      <th>Global</th>\n",
       "    </tr>\n",
       "  </thead>\n",
       "  <tbody>\n",
       "    <tr>\n",
       "      <th>0</th>\n",
       "      <td>Grand Theft Auto V</td>\n",
       "      <td>2014.0</td>\n",
       "      <td>Action</td>\n",
       "      <td>Rockstar Games</td>\n",
       "      <td>6.06</td>\n",
       "      <td>9.71</td>\n",
       "      <td>0.60</td>\n",
       "      <td>3.02</td>\n",
       "      <td>19.39</td>\n",
       "    </tr>\n",
       "    <tr>\n",
       "      <th>1</th>\n",
       "      <td>Call of Duty: Black Ops 3</td>\n",
       "      <td>2015.0</td>\n",
       "      <td>Shooter</td>\n",
       "      <td>Activision</td>\n",
       "      <td>6.18</td>\n",
       "      <td>6.05</td>\n",
       "      <td>0.41</td>\n",
       "      <td>2.44</td>\n",
       "      <td>15.09</td>\n",
       "    </tr>\n",
       "    <tr>\n",
       "      <th>2</th>\n",
       "      <td>Red Dead Redemption 2</td>\n",
       "      <td>2018.0</td>\n",
       "      <td>Action-Adventure</td>\n",
       "      <td>Rockstar Games</td>\n",
       "      <td>5.26</td>\n",
       "      <td>6.21</td>\n",
       "      <td>0.21</td>\n",
       "      <td>2.26</td>\n",
       "      <td>13.94</td>\n",
       "    </tr>\n",
       "    <tr>\n",
       "      <th>3</th>\n",
       "      <td>Call of Duty: WWII</td>\n",
       "      <td>2017.0</td>\n",
       "      <td>Shooter</td>\n",
       "      <td>Activision</td>\n",
       "      <td>4.67</td>\n",
       "      <td>6.21</td>\n",
       "      <td>0.40</td>\n",
       "      <td>2.12</td>\n",
       "      <td>13.40</td>\n",
       "    </tr>\n",
       "    <tr>\n",
       "      <th>4</th>\n",
       "      <td>FIFA 18</td>\n",
       "      <td>2017.0</td>\n",
       "      <td>Sports</td>\n",
       "      <td>EA Sports</td>\n",
       "      <td>1.27</td>\n",
       "      <td>8.64</td>\n",
       "      <td>0.15</td>\n",
       "      <td>1.73</td>\n",
       "      <td>11.80</td>\n",
       "    </tr>\n",
       "  </tbody>\n",
       "</table>\n",
       "</div>"
      ],
      "text/plain": [
       "                        Game    Year             Genre       Publisher  \\\n",
       "0         Grand Theft Auto V  2014.0            Action  Rockstar Games   \n",
       "1  Call of Duty: Black Ops 3  2015.0           Shooter      Activision   \n",
       "2      Red Dead Redemption 2  2018.0  Action-Adventure  Rockstar Games   \n",
       "3         Call of Duty: WWII  2017.0           Shooter      Activision   \n",
       "4                    FIFA 18  2017.0            Sports       EA Sports   \n",
       "\n",
       "   North America  Europe  Japan  Rest of World  Global  \n",
       "0           6.06    9.71   0.60           3.02   19.39  \n",
       "1           6.18    6.05   0.41           2.44   15.09  \n",
       "2           5.26    6.21   0.21           2.26   13.94  \n",
       "3           4.67    6.21   0.40           2.12   13.40  \n",
       "4           1.27    8.64   0.15           1.73   11.80  "
      ]
     },
     "execution_count": 4,
     "metadata": {},
     "output_type": "execute_result"
    }
   ],
   "source": [
    "#Summarizing the data\n",
    "import pandas as pd\n",
    "df = pd.read_csv('GamesSales.csv')\n",
    "df.head(5)"
   ]
  },
  {
   "cell_type": "code",
   "execution_count": 5,
   "id": "f1994288",
   "metadata": {},
   "outputs": [
    {
     "data": {
      "text/html": [
       "<div>\n",
       "<style scoped>\n",
       "    .dataframe tbody tr th:only-of-type {\n",
       "        vertical-align: middle;\n",
       "    }\n",
       "\n",
       "    .dataframe tbody tr th {\n",
       "        vertical-align: top;\n",
       "    }\n",
       "\n",
       "    .dataframe thead th {\n",
       "        text-align: right;\n",
       "    }\n",
       "</style>\n",
       "<table border=\"1\" class=\"dataframe\">\n",
       "  <thead>\n",
       "    <tr style=\"text-align: right;\">\n",
       "      <th></th>\n",
       "      <th>Game</th>\n",
       "      <th>Year</th>\n",
       "      <th>Genre</th>\n",
       "      <th>Publisher</th>\n",
       "      <th>North America</th>\n",
       "      <th>Europe</th>\n",
       "      <th>Japan</th>\n",
       "      <th>Rest of World</th>\n",
       "      <th>Global</th>\n",
       "    </tr>\n",
       "  </thead>\n",
       "  <tbody>\n",
       "    <tr>\n",
       "      <th>1029</th>\n",
       "      <td>Fallen Legion: Flames of Rebellion</td>\n",
       "      <td>NaN</td>\n",
       "      <td>Role-Playing</td>\n",
       "      <td>NaN</td>\n",
       "      <td>0.0</td>\n",
       "      <td>0.0</td>\n",
       "      <td>0.0</td>\n",
       "      <td>0.0</td>\n",
       "      <td>0.0</td>\n",
       "    </tr>\n",
       "    <tr>\n",
       "      <th>1030</th>\n",
       "      <td>Radial G Racing Revolved</td>\n",
       "      <td>2017.0</td>\n",
       "      <td>Racing</td>\n",
       "      <td>Tammeka Games</td>\n",
       "      <td>0.0</td>\n",
       "      <td>0.0</td>\n",
       "      <td>0.0</td>\n",
       "      <td>0.0</td>\n",
       "      <td>0.0</td>\n",
       "    </tr>\n",
       "    <tr>\n",
       "      <th>1031</th>\n",
       "      <td>The Mummy Demastered</td>\n",
       "      <td>NaN</td>\n",
       "      <td>Action</td>\n",
       "      <td>NaN</td>\n",
       "      <td>0.0</td>\n",
       "      <td>0.0</td>\n",
       "      <td>0.0</td>\n",
       "      <td>0.0</td>\n",
       "      <td>0.0</td>\n",
       "    </tr>\n",
       "    <tr>\n",
       "      <th>1032</th>\n",
       "      <td>Project Nimbus: Code Mirai</td>\n",
       "      <td>NaN</td>\n",
       "      <td>Action</td>\n",
       "      <td>NaN</td>\n",
       "      <td>0.0</td>\n",
       "      <td>0.0</td>\n",
       "      <td>0.0</td>\n",
       "      <td>0.0</td>\n",
       "      <td>0.0</td>\n",
       "    </tr>\n",
       "    <tr>\n",
       "      <th>1033</th>\n",
       "      <td>Battle Chef Brigade</td>\n",
       "      <td>NaN</td>\n",
       "      <td>Action</td>\n",
       "      <td>NaN</td>\n",
       "      <td>0.0</td>\n",
       "      <td>0.0</td>\n",
       "      <td>0.0</td>\n",
       "      <td>0.0</td>\n",
       "      <td>0.0</td>\n",
       "    </tr>\n",
       "  </tbody>\n",
       "</table>\n",
       "</div>"
      ],
      "text/plain": [
       "                                    Game    Year         Genre      Publisher  \\\n",
       "1029  Fallen Legion: Flames of Rebellion     NaN  Role-Playing            NaN   \n",
       "1030            Radial G Racing Revolved  2017.0        Racing  Tammeka Games   \n",
       "1031                The Mummy Demastered     NaN        Action            NaN   \n",
       "1032          Project Nimbus: Code Mirai     NaN        Action            NaN   \n",
       "1033                 Battle Chef Brigade     NaN        Action            NaN   \n",
       "\n",
       "      North America  Europe  Japan  Rest of World  Global  \n",
       "1029            0.0     0.0    0.0            0.0     0.0  \n",
       "1030            0.0     0.0    0.0            0.0     0.0  \n",
       "1031            0.0     0.0    0.0            0.0     0.0  \n",
       "1032            0.0     0.0    0.0            0.0     0.0  \n",
       "1033            0.0     0.0    0.0            0.0     0.0  "
      ]
     },
     "execution_count": 5,
     "metadata": {},
     "output_type": "execute_result"
    }
   ],
   "source": [
    "df.tail(5)"
   ]
  },
  {
   "cell_type": "code",
   "execution_count": 7,
   "id": "b203aab7",
   "metadata": {},
   "outputs": [
    {
     "data": {
      "text/html": [
       "<div>\n",
       "<style scoped>\n",
       "    .dataframe tbody tr th:only-of-type {\n",
       "        vertical-align: middle;\n",
       "    }\n",
       "\n",
       "    .dataframe tbody tr th {\n",
       "        vertical-align: top;\n",
       "    }\n",
       "\n",
       "    .dataframe thead th {\n",
       "        text-align: right;\n",
       "    }\n",
       "</style>\n",
       "<table border=\"1\" class=\"dataframe\">\n",
       "  <thead>\n",
       "    <tr style=\"text-align: right;\">\n",
       "      <th></th>\n",
       "      <th>Game</th>\n",
       "      <th>Year</th>\n",
       "      <th>Genre</th>\n",
       "      <th>Publisher</th>\n",
       "      <th>North America</th>\n",
       "      <th>Europe</th>\n",
       "      <th>Japan</th>\n",
       "      <th>Rest of World</th>\n",
       "      <th>Global</th>\n",
       "    </tr>\n",
       "  </thead>\n",
       "  <tbody>\n",
       "    <tr>\n",
       "      <th>count</th>\n",
       "      <td>1034</td>\n",
       "      <td>825.000000</td>\n",
       "      <td>1034</td>\n",
       "      <td>825</td>\n",
       "      <td>1034.000000</td>\n",
       "      <td>1034.000000</td>\n",
       "      <td>1034.000000</td>\n",
       "      <td>1034.000000</td>\n",
       "      <td>1034.000000</td>\n",
       "    </tr>\n",
       "    <tr>\n",
       "      <th>unique</th>\n",
       "      <td>1031</td>\n",
       "      <td>NaN</td>\n",
       "      <td>17</td>\n",
       "      <td>152</td>\n",
       "      <td>NaN</td>\n",
       "      <td>NaN</td>\n",
       "      <td>NaN</td>\n",
       "      <td>NaN</td>\n",
       "      <td>NaN</td>\n",
       "    </tr>\n",
       "    <tr>\n",
       "      <th>top</th>\n",
       "      <td>War Thunder</td>\n",
       "      <td>NaN</td>\n",
       "      <td>Action</td>\n",
       "      <td>Namco Bandai Games</td>\n",
       "      <td>NaN</td>\n",
       "      <td>NaN</td>\n",
       "      <td>NaN</td>\n",
       "      <td>NaN</td>\n",
       "      <td>NaN</td>\n",
       "    </tr>\n",
       "    <tr>\n",
       "      <th>freq</th>\n",
       "      <td>2</td>\n",
       "      <td>NaN</td>\n",
       "      <td>258</td>\n",
       "      <td>56</td>\n",
       "      <td>NaN</td>\n",
       "      <td>NaN</td>\n",
       "      <td>NaN</td>\n",
       "      <td>NaN</td>\n",
       "      <td>NaN</td>\n",
       "    </tr>\n",
       "    <tr>\n",
       "      <th>mean</th>\n",
       "      <td>NaN</td>\n",
       "      <td>2015.966061</td>\n",
       "      <td>NaN</td>\n",
       "      <td>NaN</td>\n",
       "      <td>0.204613</td>\n",
       "      <td>0.248714</td>\n",
       "      <td>0.033636</td>\n",
       "      <td>0.089014</td>\n",
       "      <td>0.576054</td>\n",
       "    </tr>\n",
       "    <tr>\n",
       "      <th>std</th>\n",
       "      <td>NaN</td>\n",
       "      <td>1.298360</td>\n",
       "      <td>NaN</td>\n",
       "      <td>NaN</td>\n",
       "      <td>0.563471</td>\n",
       "      <td>0.785491</td>\n",
       "      <td>0.108344</td>\n",
       "      <td>0.249410</td>\n",
       "      <td>1.583534</td>\n",
       "    </tr>\n",
       "    <tr>\n",
       "      <th>min</th>\n",
       "      <td>NaN</td>\n",
       "      <td>2013.000000</td>\n",
       "      <td>NaN</td>\n",
       "      <td>NaN</td>\n",
       "      <td>0.000000</td>\n",
       "      <td>0.000000</td>\n",
       "      <td>0.000000</td>\n",
       "      <td>0.000000</td>\n",
       "      <td>0.000000</td>\n",
       "    </tr>\n",
       "    <tr>\n",
       "      <th>25%</th>\n",
       "      <td>NaN</td>\n",
       "      <td>2015.000000</td>\n",
       "      <td>NaN</td>\n",
       "      <td>NaN</td>\n",
       "      <td>0.000000</td>\n",
       "      <td>0.000000</td>\n",
       "      <td>0.000000</td>\n",
       "      <td>0.000000</td>\n",
       "      <td>0.000000</td>\n",
       "    </tr>\n",
       "    <tr>\n",
       "      <th>50%</th>\n",
       "      <td>NaN</td>\n",
       "      <td>2016.000000</td>\n",
       "      <td>NaN</td>\n",
       "      <td>NaN</td>\n",
       "      <td>0.020000</td>\n",
       "      <td>0.000000</td>\n",
       "      <td>0.000000</td>\n",
       "      <td>0.010000</td>\n",
       "      <td>0.060000</td>\n",
       "    </tr>\n",
       "    <tr>\n",
       "      <th>75%</th>\n",
       "      <td>NaN</td>\n",
       "      <td>2017.000000</td>\n",
       "      <td>NaN</td>\n",
       "      <td>NaN</td>\n",
       "      <td>0.120000</td>\n",
       "      <td>0.130000</td>\n",
       "      <td>0.030000</td>\n",
       "      <td>0.050000</td>\n",
       "      <td>0.357500</td>\n",
       "    </tr>\n",
       "    <tr>\n",
       "      <th>max</th>\n",
       "      <td>NaN</td>\n",
       "      <td>2020.000000</td>\n",
       "      <td>NaN</td>\n",
       "      <td>NaN</td>\n",
       "      <td>6.180000</td>\n",
       "      <td>9.710000</td>\n",
       "      <td>2.170000</td>\n",
       "      <td>3.020000</td>\n",
       "      <td>19.390000</td>\n",
       "    </tr>\n",
       "  </tbody>\n",
       "</table>\n",
       "</div>"
      ],
      "text/plain": [
       "               Game         Year   Genre           Publisher  North America  \\\n",
       "count          1034   825.000000    1034                 825    1034.000000   \n",
       "unique         1031          NaN      17                 152            NaN   \n",
       "top     War Thunder          NaN  Action  Namco Bandai Games            NaN   \n",
       "freq              2          NaN     258                  56            NaN   \n",
       "mean            NaN  2015.966061     NaN                 NaN       0.204613   \n",
       "std             NaN     1.298360     NaN                 NaN       0.563471   \n",
       "min             NaN  2013.000000     NaN                 NaN       0.000000   \n",
       "25%             NaN  2015.000000     NaN                 NaN       0.000000   \n",
       "50%             NaN  2016.000000     NaN                 NaN       0.020000   \n",
       "75%             NaN  2017.000000     NaN                 NaN       0.120000   \n",
       "max             NaN  2020.000000     NaN                 NaN       6.180000   \n",
       "\n",
       "             Europe        Japan  Rest of World       Global  \n",
       "count   1034.000000  1034.000000    1034.000000  1034.000000  \n",
       "unique          NaN          NaN            NaN          NaN  \n",
       "top             NaN          NaN            NaN          NaN  \n",
       "freq            NaN          NaN            NaN          NaN  \n",
       "mean       0.248714     0.033636       0.089014     0.576054  \n",
       "std        0.785491     0.108344       0.249410     1.583534  \n",
       "min        0.000000     0.000000       0.000000     0.000000  \n",
       "25%        0.000000     0.000000       0.000000     0.000000  \n",
       "50%        0.000000     0.000000       0.010000     0.060000  \n",
       "75%        0.130000     0.030000       0.050000     0.357500  \n",
       "max        9.710000     2.170000       3.020000    19.390000  "
      ]
     },
     "execution_count": 7,
     "metadata": {},
     "output_type": "execute_result"
    }
   ],
   "source": [
    "df.describe(include='all')"
   ]
  },
  {
   "cell_type": "code",
   "execution_count": 8,
   "id": "2acc1f13",
   "metadata": {},
   "outputs": [
    {
     "name": "stdout",
     "output_type": "stream",
     "text": [
      "<class 'pandas.core.frame.DataFrame'>\n",
      "RangeIndex: 1034 entries, 0 to 1033\n",
      "Data columns (total 9 columns):\n",
      " #   Column         Non-Null Count  Dtype  \n",
      "---  ------         --------------  -----  \n",
      " 0   Game           1034 non-null   object \n",
      " 1   Year           825 non-null    float64\n",
      " 2   Genre          1034 non-null   object \n",
      " 3   Publisher      825 non-null    object \n",
      " 4   North America  1034 non-null   float64\n",
      " 5   Europe         1034 non-null   float64\n",
      " 6   Japan          1034 non-null   float64\n",
      " 7   Rest of World  1034 non-null   float64\n",
      " 8   Global         1034 non-null   float64\n",
      "dtypes: float64(6), object(3)\n",
      "memory usage: 72.8+ KB\n"
     ]
    }
   ],
   "source": [
    "df.info()"
   ]
  },
  {
   "cell_type": "raw",
   "id": "00614b13",
   "metadata": {},
   "source": [
    "Measures of Central Tendency: Mean, median, mode\n",
    "Mean- Ratio of sum of all observations to the number of observations\n",
    "Median- Point which divides the entire data into two equal halves\n",
    "Mode- Number which has the maximum frequency in entire data set"
   ]
  },
  {
   "cell_type": "code",
   "execution_count": 12,
   "id": "b4971dc0",
   "metadata": {},
   "outputs": [
    {
     "name": "stdout",
     "output_type": "stream",
     "text": [
      "Mean of all columns: \n",
      " Year             2015.966061\n",
      "North America       0.204613\n",
      "Europe              0.248714\n",
      "Japan               0.033636\n",
      "Rest of World       0.089014\n",
      "Global              0.576054\n",
      "dtype: float64\n",
      "Mean of all rows: \n",
      " 0       342.130000\n",
      "1       340.861667\n",
      "2       340.980000\n",
      "3       340.633333\n",
      "4       340.098333\n",
      "           ...    \n",
      "1029      0.000000\n",
      "1030    336.166667\n",
      "1031      0.000000\n",
      "1032      0.000000\n",
      "1033      0.000000\n",
      "Length: 1034, dtype: float64\n"
     ]
    }
   ],
   "source": [
    "print(\"Mean of all columns: \\n\", df.mean()) # find mean of all columns\n",
    "print(\"Mean of all rows: \\n\", df.mean(axis=1))"
   ]
  },
  {
   "cell_type": "code",
   "execution_count": 15,
   "id": "4118dd82",
   "metadata": {},
   "outputs": [
    {
     "name": "stdout",
     "output_type": "stream",
     "text": [
      "Median of all columns:\n",
      " Year             2016.00\n",
      "North America       0.02\n",
      "Europe              0.00\n",
      "Japan               0.00\n",
      "Rest of World       0.01\n",
      "Global              0.06\n",
      "dtype: float64\n",
      "Median of North America\n",
      " 0.02\n",
      "Mode of all columns:\n",
      "           Game    Year   Genre           Publisher  North America  Europe  \\\n",
      "0     Apotheon  2017.0  Action  Namco Bandai Games            0.0     0.0   \n",
      "1    Biomutant     NaN     NaN                 NaN            NaN     NaN   \n",
      "2  War Thunder     NaN     NaN                 NaN            NaN     NaN   \n",
      "\n",
      "   Japan  Rest of World  Global  \n",
      "0    0.0            0.0     0.0  \n",
      "1    NaN            NaN     NaN  \n",
      "2    NaN            NaN     NaN  \n",
      "Mode of North America:\n",
      " 0    0.0\n",
      "dtype: float64\n"
     ]
    }
   ],
   "source": [
    "print(\"Median of all columns:\\n\", df.median())\n",
    "print(\"Median of North America\\n\", df['North America'].median())\n",
    "print(\"Mode of all columns:\\n\", df.mode())\n",
    "print(\"Mode of North America:\\n\", df['North America'].mode())"
   ]
  },
  {
   "cell_type": "raw",
   "id": "3cc40a7f",
   "metadata": {},
   "source": [
    "Measures of Variability:\n",
    "Absolute Deviation from Mean- average absolute distance of each point in the set from mean\n",
    "Variance- indicates how far are data points spread out from the mean\n",
    "Standard Deviation- square root of variance\n",
    "Range- Difference between maximum and minimum value in the dataset\n",
    "Quartiles- Points that divide data set into four equal parts, at 25%, 50% and 75%\n",
    "Skewness- Measure of symmetry"
   ]
  },
  {
   "cell_type": "code",
   "execution_count": 26,
   "id": "0acef7c0",
   "metadata": {},
   "outputs": [
    {
     "name": "stdout",
     "output_type": "stream",
     "text": [
      "Mean absolute deviation:\n",
      " 0.12310480416328706\n",
      "Variance:\n",
      " 0.06220541511175626\n",
      "Standard deviation:\n",
      " 0.24941013434052003\n",
      "Quantiles\n",
      " 0.25    0.00\n",
      "0.50    0.01\n",
      "0.75    0.05\n",
      "Name: Rest of World, dtype: float64\n",
      "Minimum:\n",
      " 0.0\n",
      "Maxmimum:\n",
      " 3.02\n",
      "Range:\n",
      " 3.02\n"
     ]
    }
   ],
   "source": [
    "world = df['Rest of World'] # stores column Rest of World in a pandas series\n",
    "\n",
    "print(\"Mean absolute deviation:\\n\", world.mad())\n",
    "print(\"Variance:\\n\", world.var())\n",
    "print(\"Standard deviation:\\n\", world.std())\n",
    "print(\"Quantiles\\n\", world.quantile(q=[0.25,0.5,0.75]))\n",
    "print(\"Minimum:\\n\", world.min())\n",
    "print(\"Maxmimum:\\n\", world.max())\n",
    "print(\"Range:\\n\", world.max()-world.min())"
   ]
  },
  {
   "cell_type": "code",
   "execution_count": 29,
   "id": "2b3cd56e",
   "metadata": {},
   "outputs": [
    {
     "name": "stdout",
     "output_type": "stream",
     "text": [
      "Year              0.026381\n",
      "North America     5.641812\n",
      "Europe            6.529292\n",
      "Japan            11.174907\n",
      "Rest of World     5.726620\n",
      "Global            5.711236\n",
      "dtype: float64\n",
      "0       2.449136\n",
      "1       2.449283\n",
      "2       2.449310\n",
      "3       2.449325\n",
      "4       2.449315\n",
      "          ...   \n",
      "1029    0.000000\n",
      "1030    2.449490\n",
      "1031    0.000000\n",
      "1032    0.000000\n",
      "1033    0.000000\n",
      "Length: 1034, dtype: float64\n",
      "5.726619524609345\n"
     ]
    }
   ],
   "source": [
    "print(df.skew())\n",
    "print(df.skew(axis=1))\n",
    "print(world.skew())"
   ]
  },
  {
   "cell_type": "raw",
   "id": "944e905d",
   "metadata": {},
   "source": [
    "Random is a module present in the Numpy library which contains functions which are used for generating random numbers. "
   ]
  },
  {
   "cell_type": "markdown",
   "id": "c49783c9",
   "metadata": {},
   "source": [
    "# Random Numbers:\n",
    "rand() function creates an array of the given shape and populates it with random samples from a uniform distribution over [0, 1)."
   ]
  },
  {
   "cell_type": "code",
   "execution_count": 31,
   "id": "ddd835d9",
   "metadata": {},
   "outputs": [
    {
     "name": "stdout",
     "output_type": "stream",
     "text": [
      "0.6686623469676309\n",
      "[0.81754284 0.00296215 0.61392073 0.294438  ]\n",
      "[[0.10347078 0.55117122 0.07191937]\n",
      " [0.88802504 0.52498628 0.53861523]\n",
      " [0.2635198  0.15214696 0.22453843]\n",
      " [0.97615886 0.25864786 0.5858911 ]]\n"
     ]
    }
   ],
   "source": [
    "import numpy as np\n",
    "import random\n",
    "print(np.random.rand()) #returns a random number between 0 and 1\n",
    "print(np.random.rand(4)) #creates a 1D array of 4 rows filled with numbers between 0 and 1\n",
    "print(np.random.rand(4,3)) #creates a 2D array of 4 rows and 3 columns filled with numbers between 0 and 1"
   ]
  },
  {
   "cell_type": "raw",
   "id": "77e0768a",
   "metadata": {},
   "source": [
    "randn()- return a sample (or samples) from the “standard normal” distribution."
   ]
  },
  {
   "cell_type": "code",
   "execution_count": 34,
   "id": "042b94ba",
   "metadata": {},
   "outputs": [
    {
     "name": "stdout",
     "output_type": "stream",
     "text": [
      "[ 1.45061557  0.87384046 -0.39866625 -2.49442254]\n",
      "[[-0.75786587  1.59470124]\n",
      " [-0.220254    1.72775708]\n",
      " [-0.49692995  0.58662546]\n",
      " [-0.54924868  0.40225035]]\n"
     ]
    }
   ],
   "source": [
    "print(np.random.randn(4))\n",
    "print(np.random.randn(4,2))"
   ]
  },
  {
   "cell_type": "raw",
   "id": "8a51ac05",
   "metadata": {},
   "source": [
    "randint()- Return random integers from low (inclusive) to high (exclusive)."
   ]
  },
  {
   "cell_type": "code",
   "execution_count": 36,
   "id": "9ca9b3a7",
   "metadata": {},
   "outputs": [
    {
     "name": "stdout",
     "output_type": "stream",
     "text": [
      "1\n",
      "[7 6 4 1 3]\n"
     ]
    }
   ],
   "source": [
    "print(np.random.randint(1,8))\n",
    "print(np.random.randint(1,8,size=5))"
   ]
  },
  {
   "cell_type": "raw",
   "id": "7806a5a8",
   "metadata": {},
   "source": [
    "choice()- Generates a random sample from a given 1-D array"
   ]
  },
  {
   "cell_type": "code",
   "execution_count": 42,
   "id": "96ebd953",
   "metadata": {},
   "outputs": [
    {
     "name": "stdout",
     "output_type": "stream",
     "text": [
      "0.03\n"
     ]
    }
   ],
   "source": [
    "print(np.random.choice(world))"
   ]
  },
  {
   "cell_type": "markdown",
   "id": "25edea12",
   "metadata": {},
   "source": [
    "Data Distribution is a list of all possible values, and how often each value occurs. Such lists are important when working with statistics and data science. The random module offer methods that returns randomly generated data distributions.\n",
    "\n",
    "Random Distribution\n",
    "A random distribution is a set of random numbers that follow a certain probability density function."
   ]
  },
  {
   "cell_type": "code",
   "execution_count": 47,
   "id": "0a6c9e01",
   "metadata": {},
   "outputs": [
    {
     "name": "stdout",
     "output_type": "stream",
     "text": [
      "[3 5 7 7 5 7 3 5 7 7 5 7 7 7 7 7 3 7 3 5 7 7 7 7 3 7 5 5 7 7 7 5 7 7 5 5 7\n",
      " 7 5 7 7 7 5 3 5 7 7 7 5 7 5 5 5 7 7 5 7 7 5 7 7 7 3 7 7 5 7 7 7 7 7 3 7 7\n",
      " 5 7 7 5 5 7 5 7 5 7 3 5 5 7 7 7 5 7 5 5 7 7 5 5 7 5]\n",
      "[[7 7 7 7 7 7]\n",
      " [7 7 5 7 3 5]\n",
      " [7 7 5 7 7 7]\n",
      " [7 7 3 7 5 7]\n",
      " [5 7 7 7 7 3]\n",
      " [5 5 7 7 7 7]]\n"
     ]
    }
   ],
   "source": [
    "x = np.random.choice([3, 5, 7, 9], p=[0.1, 0.3, 0.6, 0.0], size=(100))\n",
    "#creates an array containing 100 values, where each value has to be 3,5,7, or 9\n",
    "print(x)\n",
    "x = np.random.choice([3, 5, 7, 9], p=[0.1, 0.3, 0.6, 0.0], size=(6,6))\n",
    "#creates an array of size 6x6 containing values, where each value has to be 3,5,7, or 9\n",
    "print(x)"
   ]
  },
  {
   "cell_type": "raw",
   "id": "7d1988d2",
   "metadata": {},
   "source": [
    "SciPy is a scientific computation library that uses NumPy underneath. It stands for Scientific Python.\n",
    "It provides more utility functions for optimization, stats and signal processing. It has optimized and added functions that are frequently used in Numpy and data science."
   ]
  },
  {
   "cell_type": "code",
   "execution_count": 50,
   "id": "f025054f",
   "metadata": {},
   "outputs": [
    {
     "name": "stdout",
     "output_type": "stream",
     "text": [
      "3.141592653589793\n"
     ]
    }
   ],
   "source": [
    "# pip install scipy to install scipy\n",
    "import scipy\n",
    "from scipy import constants\n",
    "print(constants.pi)"
   ]
  },
  {
   "cell_type": "raw",
   "id": "19176440",
   "metadata": {},
   "source": [
    "random()-Generate a sparse matrix of the given shape and density with randomly distributed values."
   ]
  },
  {
   "cell_type": "code",
   "execution_count": 58,
   "id": "06dc32c3",
   "metadata": {},
   "outputs": [
    {
     "name": "stdout",
     "output_type": "stream",
     "text": [
      "0.7622744083656937\n"
     ]
    }
   ],
   "source": [
    "from scipy import random\n",
    "from scipy import stats\n",
    "print(scipy.random.random())\n"
   ]
  },
  {
   "cell_type": "raw",
   "id": "d4f47e89",
   "metadata": {},
   "source": [
    "rv_continuous()- A generic continuous random variable class meant for subclassing."
   ]
  },
  {
   "cell_type": "code",
   "execution_count": 71,
   "id": "25258359",
   "metadata": {},
   "outputs": [
    {
     "name": "stdout",
     "output_type": "stream",
     "text": [
      "[[ 2.60335195  4.5589192   2.99866291]\n",
      " [ 1.5888421  -0.26982325  1.57838717]\n",
      " [ 4.43078432  4.29549902  4.13130721]\n",
      " [ 1.89059122 -0.8332625   2.25830464]\n",
      " [ 2.14326058  3.70360553  3.41864933]]\n"
     ]
    }
   ],
   "source": [
    "from  scipy.stats import norm, uniform, binom\n",
    "print(norm.rvs(loc=2,scale=2,size=(5,3))) #A normal continuous random variable"
   ]
  },
  {
   "cell_type": "code",
   "execution_count": 73,
   "id": "c686ab68",
   "metadata": {},
   "outputs": [
    {
     "name": "stdout",
     "output_type": "stream",
     "text": [
      "[[3.26340817 3.21246343 2.8684701 ]\n",
      " [2.32076524 2.86696546 2.53791833]\n",
      " [2.75561457 3.75921575 3.73197459]\n",
      " [2.31012053 2.73158284 3.53471436]\n",
      " [2.88692488 3.08386726 3.93674651]]\n",
      "[58 61 49 64 50 56 56 55 53 63]\n"
     ]
    }
   ],
   "source": [
    "print(uniform.rvs(loc=2,scale=2,size=(5,3))) #A uniform continuous random variable\n",
    "print(binom.rvs(100,0.6,size=10)) # a binomial discrete random variable"
   ]
  }
 ],
 "metadata": {
  "kernelspec": {
   "display_name": "Python 3",
   "language": "python",
   "name": "python3"
  },
  "language_info": {
   "codemirror_mode": {
    "name": "ipython",
    "version": 3
   },
   "file_extension": ".py",
   "mimetype": "text/x-python",
   "name": "python",
   "nbconvert_exporter": "python",
   "pygments_lexer": "ipython3",
   "version": "3.8.8"
  }
 },
 "nbformat": 4,
 "nbformat_minor": 5
}

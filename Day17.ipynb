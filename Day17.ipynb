{
 "cells": [
  {
   "cell_type": "markdown",
   "id": "e7443e6b",
   "metadata": {},
   "source": [
    "# Scipy\n",
    "SciPy is a python library that is useful in solving many mathematical equations and algorithms. It is designed on the top of Numpy library that gives more extension of finding scientific mathematical formulae like Matrix Rank, Inverse, polynomial equations, LU Decomposition, etc. Using its high level functions will significantly reduce the complexity of the code and helps in better analyzing the data. It provides more utility functions for optimization, stats and signal processing.\n",
    "\n"
   ]
  },
  {
   "cell_type": "code",
   "execution_count": 2,
   "id": "4d542418",
   "metadata": {},
   "outputs": [
    {
     "name": "stdout",
     "output_type": "stream",
     "text": [
      "3.141592653589793\n",
      "['Avogadro', 'Boltzmann', 'Btu', 'Btu_IT', 'Btu_th', 'ConstantWarning', 'G', 'Julian_year', 'N_A', 'Planck', 'R', 'Rydberg', 'Stefan_Boltzmann', 'Wien', '__all__', '__builtins__', '__cached__', '__doc__', '__file__', '__loader__', '__name__', '__package__', '__path__', '__spec__', '_obsolete_constants', 'acre', 'alpha', 'angstrom', 'arcmin', 'arcminute', 'arcsec', 'arcsecond', 'astronomical_unit', 'atm', 'atmosphere', 'atomic_mass', 'atto', 'au', 'bar', 'barrel', 'bbl', 'blob', 'c', 'calorie', 'calorie_IT', 'calorie_th', 'carat', 'centi', 'codata', 'constants', 'convert_temperature', 'day', 'deci', 'degree', 'degree_Fahrenheit', 'deka', 'dyn', 'dyne', 'e', 'eV', 'electron_mass', 'electron_volt', 'elementary_charge', 'epsilon_0', 'erg', 'exa', 'exbi', 'femto', 'fermi', 'find', 'fine_structure', 'fluid_ounce', 'fluid_ounce_US', 'fluid_ounce_imp', 'foot', 'g', 'gallon', 'gallon_US', 'gallon_imp', 'gas_constant', 'gibi', 'giga', 'golden', 'golden_ratio', 'grain', 'gram', 'gravitational_constant', 'h', 'hbar', 'hectare', 'hecto', 'horsepower', 'hour', 'hp', 'inch', 'k', 'kgf', 'kibi', 'kilo', 'kilogram_force', 'kmh', 'knot', 'lambda2nu', 'lb', 'lbf', 'light_year', 'liter', 'litre', 'long_ton', 'm_e', 'm_n', 'm_p', 'm_u', 'mach', 'mebi', 'mega', 'metric_ton', 'micro', 'micron', 'mil', 'mile', 'milli', 'minute', 'mmHg', 'mph', 'mu_0', 'nano', 'nautical_mile', 'neutron_mass', 'nu2lambda', 'ounce', 'oz', 'parsec', 'pebi', 'peta', 'physical_constants', 'pi', 'pico', 'point', 'pound', 'pound_force', 'precision', 'proton_mass', 'psi', 'pt', 'short_ton', 'sigma', 'slinch', 'slug', 'speed_of_light', 'speed_of_sound', 'stone', 'survey_foot', 'survey_mile', 'tebi', 'tera', 'test', 'ton_TNT', 'torr', 'troy_ounce', 'troy_pound', 'u', 'unit', 'value', 'week', 'yard', 'year', 'yobi', 'yotta', 'zebi', 'zepto', 'zero_Celsius', 'zetta']\n"
     ]
    }
   ],
   "source": [
    "#Scipy constants\n",
    "from scipy import constants\n",
    "print(constants.pi)\n",
    "print(dir(constants)) #prints list of all constants"
   ]
  },
  {
   "cell_type": "markdown",
   "id": "2de1ec53",
   "metadata": {},
   "source": [
    "# Optimizers\n",
    "Optimizers are a set of procedures defined in SciPy that either find the minimum value of a function, or the root of an equation."
   ]
  },
  {
   "cell_type": "code",
   "execution_count": 3,
   "id": "db5ccfa6",
   "metadata": {},
   "outputs": [
    {
     "name": "stdout",
     "output_type": "stream",
     "text": [
      "    fjac: array([[-1.]])\n",
      "     fun: array([0.])\n",
      " message: 'The solution converged.'\n",
      "    nfev: 9\n",
      "     qtf: array([-2.66786593e-13])\n",
      "       r: array([-1.67361202])\n",
      "  status: 1\n",
      " success: True\n",
      "       x: array([-0.73908513])\n"
     ]
    }
   ],
   "source": [
    "from scipy.optimize import root\n",
    "from math import cos\n",
    "\n",
    "def eqn(x):\n",
    "    return x+cos(x)\n",
    "myroot = root(eqn,0) #finds root of non linear equation x+cos(x)\n",
    "print(myroot) "
   ]
  },
  {
   "cell_type": "code",
   "execution_count": null,
   "id": "16f8275c",
   "metadata": {},
   "outputs": [],
   "source": [
    "# Minimizing and maximizing a function\n",
    "\n",
    "from scipy.optimize import minimize\n",
    "\n",
    "def eqn(x):\n",
    "  return x**2 + x + 2\n",
    "\n",
    "mymin = minimize(eqn, 0, method='BFGS')\n",
    "print(mymin)"
   ]
  },
  {
   "cell_type": "markdown",
   "id": "b91d157c",
   "metadata": {},
   "source": [
    "# Linalg Module\n",
    "\n",
    "All functions for linear algebra. Additionally, it is faster and has some advanced functions that are not in numpy.linalg\n"
   ]
  },
  {
   "cell_type": "code",
   "execution_count": 23,
   "id": "28a84e9f",
   "metadata": {},
   "outputs": [
    {
     "name": "stdout",
     "output_type": "stream",
     "text": [
      "[ 2. -2.  9.]\n",
      "-5.0\n"
     ]
    }
   ],
   "source": [
    "from scipy import linalg\n",
    "import numpy as np\n",
    "\n",
    "a = np.array([[3, 2, 0], [1, -1, 0], [0, 5, 1]])\n",
    "b = np.array([2, 4, -1])\n",
    "\n",
    "x = linalg.solve(a, b) #solves the given linear equation\n",
    "\n",
    "print (x)\n",
    "\n",
    "print(linalg.det(a)) # finds determinant of given square matrix\n",
    "\n"
   ]
  },
  {
   "cell_type": "markdown",
   "id": "c8f93b3f",
   "metadata": {},
   "source": [
    "# Eigen Values\n",
    "\n",
    "scipy.linalg.eig computes the eigenvalues from an ordinary or generalized eigenvalue problem. This function returns the Eigen values and the Eigen vectors."
   ]
  },
  {
   "cell_type": "code",
   "execution_count": 25,
   "id": "26d28deb",
   "metadata": {},
   "outputs": [
    {
     "name": "stdout",
     "output_type": "stream",
     "text": [
      "[-0.37228132+0.j  5.37228132+0.j]\n",
      "[[-0.82456484 -0.41597356]\n",
      " [ 0.56576746 -0.90937671]]\n"
     ]
    }
   ],
   "source": [
    "\n",
    "A = np.array([[1,2],[3,4]])\n",
    "\n",
    "l, v = linalg.eig(A)\n",
    "\n",
    "print (l) # returns eigen values\n",
    "\n",
    "print (v) # returns eigen vectors"
   ]
  },
  {
   "cell_type": "raw",
   "id": "1712d4b2",
   "metadata": {},
   "source": [
    "Single Value Decomposition\n",
    "\n",
    "The scipy.linalg.svd factorizes the matrix ‘a’ into two unitary matrices ‘U’ and ‘Vh’ and a 1-D array ‘s’ of singular values (real, non-negative) such that a == U*S*Vh, where ‘S’ is a suitably shaped matrix of zeros with the main diagonal ‘s’."
   ]
  },
  {
   "cell_type": "code",
   "execution_count": 30,
   "id": "a3cf371c",
   "metadata": {},
   "outputs": [
    {
     "name": "stdout",
     "output_type": "stream",
     "text": [
      "[[-0.45618382+0.55197976j  0.1826804 +0.53712861j  0.3659736 +0.17719684j]\n",
      " [-0.31836017-0.37402404j -0.00740526-0.02478421j  0.5385904 -0.68410826j]\n",
      " [-0.27909134+0.40997014j -0.31289583-0.76128039j  0.24465795+0.12931887j]] \n",
      "\n",
      " [[-0.18396403+0.j         -0.61080223-0.77011549j]\n",
      " [-0.98293298+0.j          0.11431669+0.14413348j]] \n",
      "\n",
      " [1.57666139 0.79009375]\n"
     ]
    }
   ],
   "source": [
    "a = np.random.randn(3, 2) + 1.j*np.random.randn(3, 2)\n",
    "U, s, Vh = linalg.svd(a)\n",
    "print (U, \"\\n\\n\", Vh, \"\\n\\n\", s)\n"
   ]
  },
  {
   "cell_type": "markdown",
   "id": "f197b283",
   "metadata": {},
   "source": [
    "# Scipy Sparse Data\n",
    "\n",
    "Data set where most of the item values are zero."
   ]
  },
  {
   "cell_type": "code",
   "execution_count": 13,
   "id": "8996d998",
   "metadata": {},
   "outputs": [
    {
     "name": "stdout",
     "output_type": "stream",
     "text": [
      "  (0, 1)\t1\n",
      "  (0, 2)\t2\n",
      "  (1, 2)\t6\n",
      "  (3, 0)\t1\n",
      "[1 2 6 1]\n",
      "<bound method _data_matrix.count_nonzero of <4x3 sparse matrix of type '<class 'numpy.intc'>'\n",
      "\twith 4 stored elements in Compressed Sparse Row format>>\n",
      "  (0, 1)\t1\n",
      "  (0, 2)\t2\n",
      "  (1, 2)\t6\n",
      "  (3, 0)\t1\n",
      "\n",
      "  (0, 1)\t1\n",
      "  (0, 2)\t2\n",
      "  (1, 2)\t6\n",
      "  (3, 0)\t1\n"
     ]
    }
   ],
   "source": [
    "from scipy.sparse import csr_matrix # csr refers to Compressed Sparse Row\n",
    "arr=np.array([0,1,2,0,0,6,0,0,0,1,0,0])\n",
    "\n",
    "arr=np.array([[0,1,2],[0,0,6],[0,0,0],[1,0,0]])\n",
    "\n",
    "print(csr_matrix(arr))\n",
    "\n",
    "print(csr_matrix(arr).data) #prints only non-zero elements\n",
    "\n",
    "print(csr_matrix(arr).count_nonzero) #counts all non-zero elements\n",
    "\n",
    "a = csr_matrix(arr)\n",
    "a.eliminate_zeros() #removes zero entries\n",
    "print(a)\n",
    "\n",
    "print()\n",
    "\n",
    "a = csr_matrix(arr)\n",
    "a.sum_duplicates() #removes duplicate entries\n",
    "print(a)"
   ]
  },
  {
   "cell_type": "markdown",
   "id": "9c20f3aa",
   "metadata": {},
   "source": [
    "# Graphs\n",
    "SciPy provides us with the module scipy.sparse.csgraph for working with such data structures."
   ]
  },
  {
   "cell_type": "code",
   "execution_count": 19,
   "id": "104f7a22",
   "metadata": {},
   "outputs": [
    {
     "name": "stdout",
     "output_type": "stream",
     "text": [
      "(1, array([0, 0, 0]))\n",
      "(array([0., 1., 2.]), array([-9999,     0,     0]))\n",
      "(array([1, 2]), array([-9999, -9999,     1]))\n",
      "(array([1, 2]), array([-9999, -9999,     1]))\n"
     ]
    }
   ],
   "source": [
    "from scipy.sparse.csgraph import connected_components, dijkstra, breadth_first_order, depth_first_order\n",
    "arr=np.array([[0,1,2],[0,0,6],[0,0,0]])\n",
    "\n",
    "a = csr_matrix(arr)\n",
    "print(connected_components(a)) #prints all connected components \n",
    "\n",
    "print(dijkstra(a, return_predecessors=True, indices =0))  #finds the shortest path in a graph from one element to another\n",
    "\n",
    "print(depth_first_order(a,1)) #traverse the graph depth first for given adjacency matrix\n",
    "\n",
    "print(breadth_first_order(a,1)) #traverse the graph depth first for given adjacency matrix"
   ]
  },
  {
   "cell_type": "markdown",
   "id": "a518558a",
   "metadata": {},
   "source": [
    "# Spatial Package\n",
    "The scipy.spatial package can compute Triangulations, Voronoi Diagrams and Convex Hulls of a set of points, by leveraging the Qhull library. "
   ]
  },
  {
   "cell_type": "code",
   "execution_count": 34,
   "id": "c3ee4ba9",
   "metadata": {},
   "outputs": [
    {
     "data": {
      "image/png": "[encoded data removed]",
      "text/plain": [
       "<Figure size 432x288 with 1 Axes>"
      ]
     },
     "metadata": {
      "needs_background": "light"
     },
     "output_type": "display_data"
    },
    {
     "name": "stdout",
     "output_type": "stream",
     "text": [
      "[]\n"
     ]
    }
   ],
   "source": [
    "from scipy.spatial import Delaunay\n",
    "points = np.array([[0, 4], [2, 1.1], [1, 3], [1, 2]])\n",
    "tri = Delaunay(points)\n",
    "import matplotlib.pyplot as plt\n",
    "plt.triplot(points[:,0], points[:,1], tri.simplices.copy())\n",
    "plt.plot(points[:,0], points[:,1], 'o')\n",
    "plt.show()"
   ]
  },
  {
   "cell_type": "code",
   "execution_count": 35,
   "id": "e276bec1",
   "metadata": {},
   "outputs": [
    {
     "name": "stdout",
     "output_type": "stream",
     "text": [
      "[[4 0 3]]\n"
     ]
    }
   ],
   "source": [
    "points = np.array([[0, 0], [0, 1], [1, 0], [1, 1], [1, 1]])\n",
    "tri = Delaunay(points)\n",
    "print(tri.coplanar)"
   ]
  },
  {
   "cell_type": "code",
   "execution_count": 42,
   "id": "dc0784a1",
   "metadata": {},
   "outputs": [
    {
     "data": {
      "image/png": "[encoded data removed]",
      "text/plain": [
       "<Figure size 432x288 with 1 Axes>"
      ]
     },
     "metadata": {
      "needs_background": "light"
     },
     "output_type": "display_data"
    }
   ],
   "source": [
    "# A convex hull is the smallest polygon that covers all of the given points.\n",
    "\n",
    "from scipy.spatial import ConvexHull\n",
    "import matplotlib.pyplot as plt\n",
    "\n",
    "points = np.array([\n",
    "  [2, 4],[3, 4],[3, 0],[2, 2],[4, 1],[1, 2],[5, 0],[3, 1],[1, 2],[0, 2]\n",
    "])\n",
    "\n",
    "hull = ConvexHull(points)\n",
    "hull_points = hull.simplices\n",
    "\n",
    "plt.scatter(points[:,0], points[:,1])\n",
    "for simplex in hull_points:\n",
    "  plt.plot(points[simplex,0], points[simplex,1], 'k-')\n",
    "\n",
    "plt.show()\n"
   ]
  },
  {
   "cell_type": "markdown",
   "id": "80077075",
   "metadata": {},
   "source": [
    "# Special Package\n",
    "\n",
    "The functions available in the special package are universal functions, which follow broadcasting and automatic array looping.\n",
    "\n",
    "Few of them\n",
    "Cubic Root Function\n",
    "Exponential Function\n",
    "Relative Error Exponential Function\n",
    "Log Sum exponential function"
   ]
  },
  {
   "cell_type": "code",
   "execution_count": 37,
   "id": "8aebe99d",
   "metadata": {},
   "outputs": [
    {
     "name": "stdout",
     "output_type": "stream",
     "text": [
      "[2.15443469 2.08008382 0.50053277 6.16224015]\n",
      "[1.e+02 1.e+09]\n",
      "9.45862974442671\n"
     ]
    }
   ],
   "source": [
    "from scipy.special import cbrt, exp10, logsumexp\n",
    "res = cbrt([10, 9, 0.1254, 234])\n",
    "print(res)\n",
    "\n",
    "res = exp10([2, 9])\n",
    "print(res)\n",
    "\n",
    "a = np.arange(10)\n",
    "res = logsumexp(a)\n",
    "print(res)\n"
   ]
  },
  {
   "cell_type": "markdown",
   "id": "53d94333",
   "metadata": {},
   "source": [
    "# Interpolate package\n",
    "Interpolation is a method for generating points between given points."
   ]
  },
  {
   "cell_type": "code",
   "execution_count": 38,
   "id": "fd070608",
   "metadata": {},
   "outputs": [
    {
     "name": "stdout",
     "output_type": "stream",
     "text": [
      "[5.2 5.4 5.6 5.8 6.  6.2 6.4 6.6 6.8]\n"
     ]
    }
   ],
   "source": [
    "from scipy.interpolate import interp1d\n",
    "\n",
    "xs = np.arange(10)\n",
    "ys = 2*xs + 1\n",
    "\n",
    "interp = interp1d(xs, ys)\n",
    "\n",
    "arr = interp(np.arange(2.1, 3, 0.1))\n",
    "\n",
    "print(arr)"
   ]
  },
  {
   "cell_type": "raw",
   "id": "8dc44597",
   "metadata": {},
   "source": [
    "In 1D interpolation the points are fitted for a single curve whereas in Spline interpolation the points are fitted against a piecewise function defined with polynomials called splines."
   ]
  },
  {
   "cell_type": "code",
   "execution_count": 40,
   "id": "d2393c39",
   "metadata": {},
   "outputs": [
    {
     "name": "stdout",
     "output_type": "stream",
     "text": [
      "[5.62826474 6.03987348 6.47131994 6.92265019 7.3939103  7.88514634\n",
      " 8.39640439 8.92773053 9.47917082]\n"
     ]
    }
   ],
   "source": [
    "from scipy.interpolate import UnivariateSpline\n",
    "xs = np.arange(10)\n",
    "ys = xs**2 + np.sin(xs) + 1\n",
    "\n",
    "interp = UnivariateSpline(xs, ys)\n",
    "\n",
    "arr = interp(np.arange(2.1, 3, 0.1))\n",
    "\n",
    "print(arr)\n"
   ]
  },
  {
   "cell_type": "markdown",
   "id": "2020fedd",
   "metadata": {},
   "source": [
    "# Integrate Module\n",
    "Scipy has integration methods in scipy.integrate module."
   ]
  },
  {
   "cell_type": "code",
   "execution_count": 43,
   "id": "864f651c",
   "metadata": {},
   "outputs": [
    {
     "name": "stdout",
     "output_type": "stream",
     "text": [
      "(0.7468241328124271, 8.291413475940725e-15)\n"
     ]
    }
   ],
   "source": [
    "# Single Integrals\n",
    "import scipy.integrate\n",
    "f= lambda x:np.exp(-x**2)\n",
    "# print results\n",
    "i = scipy.integrate.quad(f, 0, 1) # integration of function f from 0 to 1\n",
    "print(i)\n",
    "\n",
    "\n",
    "#Double integrals\n",
    "f = lambda y, x: x*y**2\n",
    "i = integrate.dblquad(f, 0, 2, lambda x: 0, lambda x: 1)  \n",
    "\n",
    "# dblquad(f,a,b,g,h) Here,‘f’ is the function to be integrated, \n",
    "#‘a’ and ‘b’ are the lower and upper ranges of the x variable, respectively, \n",
    "#while ‘g’ and ‘h’ are the functions that tells the lower and upper limits of y variable.\n",
    "\n",
    "print(i)"
   ]
  },
  {
   "cell_type": "code",
   "execution_count": null,
   "id": "b39d397a",
   "metadata": {},
   "outputs": [],
   "source": []
  }
 ],
 "metadata": {
  "kernelspec": {
   "display_name": "Python 3",
   "language": "python",
   "name": "python3"
  },
  "language_info": {
   "codemirror_mode": {
    "name": "ipython",
    "version": 3
   },
   "file_extension": ".py",
   "mimetype": "text/x-python",
   "name": "python",
   "nbconvert_exporter": "python",
   "pygments_lexer": "ipython3",
   "version": "3.8.8"
  }
 },
 "nbformat": 4,
 "nbformat_minor": 5
}

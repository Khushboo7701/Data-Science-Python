{
 "cells": [
  {
   "cell_type": "raw",
   "id": "9a51b9ee",
   "metadata": {},
   "source": [
    "Regression is a method of modelling a target value based on independent predictors. This method is mostly used for forecasting and finding out cause and effect relationship between variables. Regression techniques mostly differ based on the number of independent variables and the type of relationship between the independent and dependent variables."
   ]
  },
  {
   "attachments": {},
   "cell_type": "markdown",
   "id": "51c7d8e1",
   "metadata": {},
   "source": [
    "# Linear Regression\n",
    "Linear regression is a type of regression analysis where the number of independent variables is one and there is a linear relationship between the independent(x) and dependent(y) variable. \n",
    "\n",
    "Mathematically, we can write a linear regression equation as:\n",
    "a+bx\n",
    "\n",
    "Where a and b given by the formulas: \n",
    "\n",
    "\n",
    "Here, x and y are two variables on the regression line.\n",
    "\n",
    "b = Slope of the line.\n",
    "\n",
    "a = y-intercept of the line.\n",
    "\n",
    "x = Independent variable from dataset\n",
    "\n",
    "y = Dependent variable from dataset"
   ]
  }
 ],
 "metadata": {
  "kernelspec": {
   "display_name": "Python 3",
   "language": "python",
   "name": "python3"
  },
  "language_info": {
   "codemirror_mode": {
    "name": "ipython",
    "version": 3
   },
   "file_extension": ".py",
   "mimetype": "text/x-python",
   "name": "python",
   "nbconvert_exporter": "python",
   "pygments_lexer": "ipython3",
   "version": "3.8.8"
  }
 },
 "nbformat": 4,
 "nbformat_minor": 5
}
